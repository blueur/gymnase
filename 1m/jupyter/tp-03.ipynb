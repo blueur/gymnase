{
 "cells": [
  {
   "cell_type": "markdown",
   "metadata": {},
   "source": [
    "# TP 03 : Python sur Jupyter\n",
    "\n",
    "Bienvenue sur Jupyter ! Ceci est un Jupyter Notebook, il vous permettra de modifier et d'exécuter du code python directement sur cette page. "
   ]
  },
  {
   "cell_type": "markdown",
   "metadata": {},
   "source": [
    "## 1 : Print\n",
    "\n",
    "La fonction `print()` vous permet d'écrire dans la console. \n",
    "C'est ce que le programme va afficher à l'utilisateur lorsqu'il est exécuté. \n",
    "\n",
    "### Exemple\n",
    "\n",
    "Exécutez le code suivant en le sélectionnant puis en cliquant sur ▶ et observez le résultat. \n",
    "\n",
    "N'hésitez pas à modifier les exemples pour observer d'autres résultats. "
   ]
  },
  {
   "cell_type": "code",
   "execution_count": null,
   "metadata": {},
   "outputs": [],
   "source": [
    "print(\"Hello World!\")"
   ]
  },
  {
   "cell_type": "markdown",
   "metadata": {},
   "source": [
    "### Exercice\n",
    "\n",
    "Ecrivez ci-dessous un programme affichant `42` dans la console :"
   ]
  },
  {
   "cell_type": "code",
   "execution_count": null,
   "metadata": {},
   "outputs": [],
   "source": []
  },
  {
   "cell_type": "markdown",
   "metadata": {},
   "source": [
    "## 2 : Opérateur Arithmétique\n",
    "\n",
    "Il existe plusieurs opérateurs arithmétiques en Python :\n",
    "\n",
    "| **Opérateur** |      **Nom**     | **Exemple** |\n",
    "|:-------------:|:----------------:|:-----------:|\n",
    "|       +       |     Addition     |    a + b    |\n",
    "|       -       |   Soustraction   |    a - b    |\n",
    "|       *       |  Multiplication  |    a * b    |\n",
    "|       /       |     Division     |    a / b    |\n",
    "|       %       |      Modulo      |    a % b    |\n",
    "|       **      |    Exponentiel   |    a ** b   |\n",
    "|       //      | Division entière |    a // b   |\n",
    "\n",
    "### Exemple\n",
    "\n",
    "Le code suivant affiche le nombre de secondes dans une heure :"
   ]
  },
  {
   "cell_type": "code",
   "execution_count": null,
   "metadata": {},
   "outputs": [],
   "source": [
    "print(60 * 60)\n"
   ]
  },
  {
   "cell_type": "markdown",
   "metadata": {},
   "source": [
    "### Exercice\n",
    "\n",
    "Ecrivez un programme affichant le nombre de secondes dans un jour :"
   ]
  },
  {
   "cell_type": "code",
   "execution_count": null,
   "metadata": {},
   "outputs": [],
   "source": []
  },
  {
   "cell_type": "markdown",
   "metadata": {},
   "source": [
    "Écrivez un programme affichant le résultat de `8958937768937` divisé par `2851718461558`."
   ]
  },
  {
   "cell_type": "code",
   "execution_count": null,
   "metadata": {},
   "outputs": [],
   "source": []
  },
  {
   "cell_type": "markdown",
   "metadata": {},
   "source": [
    "## 3 : Type\n",
    "\n",
    "Une valeur en Python a un certain type :\n",
    "\n",
    "| **Catégorie** | **Type** |        **Nom**        |         **Description**         | **Exemple** |\n",
    "|:-------------:|:--------:|:---------------------:|:-------------------------------:|:-----------:|\n",
    "|   Numérique   |    int   |        integer        |          Nombre entier          |      42     |\n",
    "|   Numérique   |   float  | floating point number |          Nombre décimal         |     3.14    |\n",
    "|    Booléen    |   bool   |        boolean        | Vrai (`True`) ou faux (`False`) |     True    |\n",
    "|     Texte     |    str   |         string        |       Chaîne de caractères      |    \"bleu\"   |\n",
    "\n",
    "Suivant le type, les opérateurs ne signifient pas la même chose. Par exemple, l'opérateur `+` va effectuer une concaténation en présence de strings (chaînes de caractères). \n",
    "\n",
    "### Exemple"
   ]
  },
  {
   "cell_type": "code",
   "execution_count": null,
   "metadata": {},
   "outputs": [],
   "source": [
    "print(3 + 4)\n",
    "\n",
    "print(\"3\" + \"4\")"
   ]
  },
  {
   "cell_type": "markdown",
   "metadata": {},
   "source": [
    "On peut afficher le type d'une valeur avec la fonction `type()` :"
   ]
  },
  {
   "cell_type": "code",
   "execution_count": null,
   "metadata": {},
   "outputs": [],
   "source": [
    "print(\"type de 2   :\", type(2))\n",
    "\n",
    "print(\"type de 2.0 :\", type(2.0))\n",
    "\n",
    "print(\"type de \\\"2\\\" :\", type(\"2\"))\n"
   ]
  },
  {
   "cell_type": "markdown",
   "metadata": {},
   "source": [
    "## 4 : Variable\n",
    "\n",
    "Une variable peut être vu comme une boîte étiquettée avec un `nom` et qui contient une `valeur`.\n",
    "Une variable a aussi un type (identique à sa valeur) et on peut aussi effectuer les mêmes opérations. \n",
    "\n",
    "### Exemple"
   ]
  },
  {
   "cell_type": "code",
   "execution_count": null,
   "metadata": {},
   "outputs": [],
   "source": [
    "PI = 3.14\n",
    "rayon = 4\n",
    "perimetre = 2 * PI * rayon\n",
    "\n",
    "print(perimetre)"
   ]
  },
  {
   "cell_type": "markdown",
   "metadata": {},
   "source": [
    "### Exercice\n",
    "\n",
    "Complétez le code suivant pour afficher l'aire d'un cercle :"
   ]
  },
  {
   "cell_type": "code",
   "execution_count": null,
   "metadata": {},
   "outputs": [],
   "source": [
    "PI = 3.14\n",
    "rayon = 4\n"
   ]
  },
  {
   "cell_type": "markdown",
   "metadata": {},
   "source": [
    "## 5 : Input\n",
    "\n",
    "Il est aussi possible d'interagir avec un programme : la fonction `input` permet de stocker une valeur donnée par l'utilisateur. \n",
    "\n",
    "### Exemple"
   ]
  },
  {
   "cell_type": "code",
   "execution_count": null,
   "metadata": {},
   "outputs": [],
   "source": [
    "mot = input(\"Veuillez donner un mot (appuyez sur la touche 'Entrée' pour entrer votre réponse)\")\n",
    "\n",
    "print(\"Votre mot est \" + mot)"
   ]
  },
  {
   "cell_type": "markdown",
   "metadata": {},
   "source": [
    "### Exercice\n",
    "\n",
    "Demandez à l'utilisateur `Où habitez-vous ?` et répondez-lui `Vous habitez à ...`"
   ]
  },
  {
   "cell_type": "code",
   "execution_count": null,
   "metadata": {},
   "outputs": [],
   "source": []
  },
  {
   "cell_type": "markdown",
   "metadata": {},
   "source": [
    "Demandez à l'utilisateur son prénom puis son nom de famille, pour le saluez avec son nom au complet"
   ]
  },
  {
   "cell_type": "code",
   "execution_count": null,
   "metadata": {},
   "outputs": [],
   "source": []
  },
  {
   "cell_type": "markdown",
   "metadata": {},
   "source": [
    "## 6 : Casting\n",
    "\n",
    "Le `casting` permet convertir une valeur vers un autre type. \n",
    "\n",
    "Les fonctions `int()`, `float()` et `str()` permettent de caster vers le type indiqué\n",
    "\n",
    "### Exemple"
   ]
  },
  {
   "cell_type": "code",
   "execution_count": null,
   "metadata": {},
   "outputs": [],
   "source": [
    "a = \"4\"\n",
    "b = 2\n",
    "\n",
    "print(a + str(b))\n",
    "\n",
    "print(int(a) + b)"
   ]
  },
  {
   "cell_type": "markdown",
   "metadata": {},
   "source": [
    "### Exercice\n",
    "\n",
    "Demandez à l'utilisateur son âge et répondez-lui `Votre année de naissance est ...`\n",
    "\n",
    "Indice : le type de retour de la fonction `input()` est une string. "
   ]
  },
  {
   "cell_type": "code",
   "execution_count": null,
   "metadata": {},
   "outputs": [],
   "source": []
  },
  {
   "cell_type": "markdown",
   "metadata": {},
   "source": [
    "Demandez à l'utilisateur\n",
    "- Une distance en km\n",
    "- Une durée en heures\n",
    "\n",
    "Affichez la vitesse en km/h et en m/s."
   ]
  },
  {
   "cell_type": "code",
   "execution_count": null,
   "metadata": {},
   "outputs": [],
   "source": []
  },
  {
   "cell_type": "markdown",
   "metadata": {},
   "source": [
    "## 7 : Formatage de chaîne (string formatting)\n",
    "\n",
    "Pour plus facilement inclure des variables dans des strings, on utilise le formatage. \n",
    "Pour cela, on ajoute un `f` devant la string et on met entre `{}` les variables à évaluer. \n",
    "\n",
    "### Exemple"
   ]
  },
  {
   "cell_type": "code",
   "execution_count": null,
   "metadata": {},
   "outputs": [],
   "source": [
    "a = 2\n",
    "b = 4\n",
    "\n",
    "# Sans formatage\n",
    "print(\"a=\" + str(a) + \" et b=\" + str(b))\n",
    "\n",
    "# Avec formatage\n",
    "print(f\"a={a} et b={b}\")\n",
    "\n",
    "# Voir même\n",
    "print(f\"{a=} et {b=}\")\n"
   ]
  },
  {
   "cell_type": "markdown",
   "metadata": {},
   "source": [
    "### Exercice\n",
    "\n",
    "Ecrivez un programme qui permute la valeur de deux variables :\n",
    "```\n",
    "Entrez a : 2\n",
    "Entrez b : 4\n",
    "Avant permutation :\n",
    "a='2'\n",
    "b='4'\n",
    "Après permutation :\n",
    "a='4'\n",
    "b='2'\n",
    "```"
   ]
  },
  {
   "cell_type": "code",
   "execution_count": null,
   "metadata": {},
   "outputs": [],
   "source": [
    "a = input(\"Entrez a :\")\n",
    "b = input(\"Entrez b :\")\n",
    "\n",
    "print(\"Avant permutation :\")\n",
    "print(f\"{a=}\")\n",
    "print(f\"{b=}\")\n",
    "\n",
    "# Permuttez ci-dessous les variables 'a' et 'b'\n",
    "\n",
    "\n",
    "# Fin de votre code\n",
    "\n",
    "print(\"Après permutation :\")\n",
    "print(f\"{a=}\")\n",
    "print(f\"{b=}\")"
   ]
  },
  {
   "cell_type": "markdown",
   "metadata": {},
   "source": [
    "## 8 : Opérateur de Comparaison\n",
    "\n",
    "Les opérateurs de comparaison comparent deux valeurs et retournent une valeur booléenne. \n",
    "\n",
    "| **Opérateur** |        **Nom**       | **Exemple** |\n",
    "|:-------------:|:--------------------:|:-----------:|\n",
    "|       ==      |         Egal         |    a == b   |\n",
    "|       !=      |       Pas égal       |    a != b   |\n",
    "|       >       |    Plus grand que    |    a > b    |\n",
    "|       <       |    Plus petit que    |    a < b    |\n",
    "|       >=      | Plus grand ou égal à |    a >= b   |\n",
    "|       <=      | Plus petit ou égal à |    a <= b   |\n",
    "\n",
    "### Exemple"
   ]
  },
  {
   "cell_type": "code",
   "execution_count": null,
   "metadata": {},
   "outputs": [],
   "source": [
    "a = 2\n",
    "b = 4\n",
    "\n",
    "print(\"a == b :\", a == b)\n",
    "print(\"a <  b :\", a < b)\n",
    "print(\"a >  b :\", a > b)"
   ]
  },
  {
   "cell_type": "markdown",
   "metadata": {},
   "source": [
    "## 9 : Branchement Conditionnel\n",
    "\n",
    "Avec la **structure de contrôle** `if` (si), on peut exécuter des instructions uniquement lorsqu'une **condition** est vérifiée. \n",
    "\n",
    "Tout le bloc d'instruction indenté (touche `tab`) après le `if` ne sera exécuté que si la condition est évaluée à `True`. \n",
    "\n",
    "Le bloc d'insctruction qui commence par `else` (sinon) ne sera exécuté que si la condition n'est pas vérifiée. \n",
    "\n",
    "Entre les blocs `if` et `else`, il peut aussi avoir des `elif` (sinon si) pour vérifier une autre condition. \n",
    "\n",
    "### Exemples"
   ]
  },
  {
   "cell_type": "code",
   "execution_count": null,
   "metadata": {},
   "outputs": [],
   "source": [
    "a = 2\n",
    "b = 4\n",
    "\n",
    "if a == b:\n",
    "    print(\"a est égale à b\")\n",
    "else:\n",
    "    print(\"a n'est pas égale à b\")"
   ]
  },
  {
   "cell_type": "code",
   "execution_count": null,
   "metadata": {},
   "outputs": [],
   "source": [
    "a = 2\n",
    "b = 4\n",
    "\n",
    "if a < b:\n",
    "    print(f\"{a=} est plus petit que {b=}\")\n",
    "elif a > b:\n",
    "    print(f\"{a=} est plus grand que {b=}\")\n",
    "else:\n",
    "    print(f\"{a=} est égale à {b=}\")"
   ]
  },
  {
   "cell_type": "markdown",
   "metadata": {},
   "source": [
    "### Exercice\n",
    "\n",
    "Demandez à l'utilisateur le nombre de buts marqués par l'équipe domicile ainsi que l'équipe extérieur, puis affichez quelle équipe a gagné.\n",
    "\n",
    "```\n",
    "Nombre de buts marqués par l'équipe domicile : 0\n",
    "Nombre de buts marqués par l'équipe extérieur : 2\n",
    "l'équipe extérieur a gagné\n",
    "```\n",
    "\n",
    "```\n",
    "Nombre de buts marqués par l'équipe domicile : 2\n",
    "Nombre de buts marqués par l'équipe extérieur : 1\n",
    "l'équipe domicile a gagné\n",
    "```\n",
    "\n",
    "```\n",
    "Nombre de buts marqués par l'équipe domicile : 2\n",
    "Nombre de buts marqués par l'équipe extérieur : 2\n",
    "match nul\n",
    "```"
   ]
  },
  {
   "cell_type": "code",
   "execution_count": null,
   "metadata": {},
   "outputs": [],
   "source": []
  }
 ],
 "metadata": {
  "kernelspec": {
   "display_name": "Python 3.10.2 64-bit",
   "language": "python",
   "name": "python3"
  },
  "language_info": {
   "codemirror_mode": {
    "name": "ipython",
    "version": 3
   },
   "file_extension": ".py",
   "mimetype": "text/x-python",
   "name": "python",
   "nbconvert_exporter": "python",
   "pygments_lexer": "ipython3",
   "version": "3.10.2"
  },
  "orig_nbformat": 4,
  "vscode": {
   "interpreter": {
    "hash": "70855d027f8587c32bdbc2091c145d3c23bb0c40d6a1c3f98342a4acd7c29378"
   }
  }
 },
 "nbformat": 4,
 "nbformat_minor": 2
}

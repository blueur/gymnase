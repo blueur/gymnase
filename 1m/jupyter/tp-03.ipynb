{
 "cells": [
  {
   "cell_type": "markdown",
   "metadata": {},
   "source": [
    "# TP 03 : Python sur Jupyter\n",
    "\n",
    "Bienvenue sur Jupyter ! Ceci est un Jupyter Notebook, il vous permettra de modifier et d'exécuter du code python directement sur cette page. "
   ]
  },
  {
   "cell_type": "markdown",
   "metadata": {},
   "source": [
    "## Exercice 1 : Print\n",
    "\n",
    "La fonction `print` vous permet d'écrire dans la console. \n",
    "C'est ce que le programme va afficher à l'utilisateur lorsqu'il est exécuté. \n",
    "\n",
    "Exécutez le code suivant en cliquant sur ▶ et observez le résultat. "
   ]
  },
  {
   "cell_type": "code",
   "execution_count": null,
   "metadata": {},
   "outputs": [],
   "source": [
    "print(\"Hello World!\")"
   ]
  }
 ],
 "metadata": {
  "kernelspec": {
   "display_name": "Python 3.10.2 64-bit",
   "language": "python",
   "name": "python3"
  },
  "language_info": {
   "codemirror_mode": {
    "name": "ipython",
    "version": 3
   },
   "file_extension": ".py",
   "mimetype": "text/x-python",
   "name": "python",
   "nbconvert_exporter": "python",
   "pygments_lexer": "ipython3",
   "version": "3.10.2"
  },
  "orig_nbformat": 4,
  "vscode": {
   "interpreter": {
    "hash": "70855d027f8587c32bdbc2091c145d3c23bb0c40d6a1c3f98342a4acd7c29378"
   }
  }
 },
 "nbformat": 4,
 "nbformat_minor": 2
}

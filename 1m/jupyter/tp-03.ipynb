{
 "cells": [
  {
   "cell_type": "markdown",
   "metadata": {},
   "source": [
    "# TP 03 : Python sur Jupyter\n",
    "\n",
    "Bienvenue sur Jupyter ! Ceci est un Jupyter Notebook, il vous permettra de modifier et d'exécuter du code python directement sur cette page. "
   ]
  },
  {
   "cell_type": "markdown",
   "metadata": {},
   "source": [
    "## Exercice 1 : Print\n",
    "\n",
    "La fonction `print` vous permet d'écrire dans la console. \n",
    "C'est ce que le programme va afficher à l'utilisateur lorsqu'il est exécuté. \n",
    "\n",
    "### Exemple\n",
    "\n",
    "Exécutez le code suivant en le sélectionnant puis en cliquant sur ▶ et observez le résultat. "
   ]
  },
  {
   "cell_type": "code",
   "execution_count": null,
   "metadata": {},
   "outputs": [],
   "source": [
    "print(\"Hello World!\")"
   ]
  },
  {
   "cell_type": "markdown",
   "metadata": {},
   "source": [
    "### Exercice\n",
    "\n",
    "Ecrivez ci-dessous un programme affichant `42` dans la console :"
   ]
  },
  {
   "cell_type": "code",
   "execution_count": null,
   "metadata": {},
   "outputs": [],
   "source": []
  },
  {
   "cell_type": "markdown",
   "metadata": {},
   "source": [
    "## Exercice 2 : Opérateurs arithmétiques\n",
    "\n",
    "Il existe plusieurs opérateurs arithmétiques en Python :\n",
    "\n",
    "| **Opérateur** |      **Nom**     | **Exemple** |\n",
    "|:-------------:|:----------------:|:-----------:|\n",
    "|       +       |     Addition     |    a + b    |\n",
    "|       -       |   Soustraction   |    a - b    |\n",
    "|       *       |  Multiplication  |    a * b    |\n",
    "|       /       |     Division     |    a / b    |\n",
    "|       %       |      Modulo      |    a % b    |\n",
    "|       **      |    Exponentiel   |    a ** b   |\n",
    "|       //      | Division entière |    a // b   |\n",
    "\n",
    "### Exemple\n",
    "\n",
    "Le code suivant affiche le nombre de secondes dans une heure :"
   ]
  },
  {
   "cell_type": "code",
   "execution_count": null,
   "metadata": {},
   "outputs": [],
   "source": [
    "print(60 * 60)\n"
   ]
  },
  {
   "cell_type": "markdown",
   "metadata": {},
   "source": [
    "### Exercice\n",
    "\n",
    "Ecrivez un programme affichant le nombre de secondes dans un jour :"
   ]
  },
  {
   "cell_type": "code",
   "execution_count": null,
   "metadata": {},
   "outputs": [],
   "source": []
  },
  {
   "cell_type": "markdown",
   "metadata": {},
   "source": [
    "Écrivez un programme affichant le résultat de `8958937768937` divisé par `2851718461558`."
   ]
  },
  {
   "cell_type": "code",
   "execution_count": null,
   "metadata": {},
   "outputs": [],
   "source": []
  },
  {
   "cell_type": "markdown",
   "metadata": {},
   "source": [
    "## Exercice 3 : Types\n",
    "\n",
    "Une valeur en Python a un certain type :\n",
    "\n",
    "| **Catégorie** | **Type** |        **Nom**        |         **Description**         | **Exemple** |\n",
    "|:-------------:|:--------:|:---------------------:|:-------------------------------:|:-----------:|\n",
    "|   Numérique   |    int   |        integer        |          Nombre entier          |      42     |\n",
    "|   Numérique   |   float  | floating point number |          Nombre décimal         |     3.14    |\n",
    "|    Booléen    |   bool   |        boolean        | Vrai (`True`) ou faux (`False`) |     True    |\n",
    "|     Texte     |    str   |         string        |       Chaîne de caractères      |    \"bleu\"   |\n",
    "\n",
    "Suivant le type, les opérateurs ne signifient pas la même chose. Par exemple, l'opérateur `+` va effectuer une concaténation en présence de strings (chaînes de caractères). \n",
    "\n",
    "### Exemple"
   ]
  },
  {
   "cell_type": "code",
   "execution_count": null,
   "metadata": {},
   "outputs": [],
   "source": [
    "print(3 + 4)\n",
    "\n",
    "print(\"3\" + \"4\")"
   ]
  },
  {
   "cell_type": "markdown",
   "metadata": {},
   "source": [
    "On peut afficher le type d'une valeur avec la fonction `type` :"
   ]
  },
  {
   "cell_type": "code",
   "execution_count": null,
   "metadata": {},
   "outputs": [],
   "source": [
    "print(type(2))\n",
    "\n",
    "print(type(2.0))\n",
    "\n",
    "print(type(\"2\"))"
   ]
  },
  {
   "cell_type": "markdown",
   "metadata": {},
   "source": [
    "## Exercice 4 : Variables\n",
    "\n",
    "Une variable peut être vu comme une boîte étiquettée avec un `nom` et qui contient une `valeur`.\n",
    "Une variable a aussi un type (identique à sa valeur) et on peut aussi effectuer les mêmes opérations. \n",
    "\n",
    "### Exemple"
   ]
  },
  {
   "cell_type": "code",
   "execution_count": null,
   "metadata": {},
   "outputs": [],
   "source": [
    "PI = 3.14\n",
    "rayon = 4\n",
    "perimetre = 2 * PI * rayon\n",
    "\n",
    "print(perimetre)\n"
   ]
  },
  {
   "cell_type": "markdown",
   "metadata": {},
   "source": [
    "### Exercice\n",
    "\n",
    "Complétez le code suivant pour afficher l'aire d'un cercle :"
   ]
  },
  {
   "cell_type": "code",
   "execution_count": null,
   "metadata": {},
   "outputs": [],
   "source": [
    "PI = 3.14\n",
    "rayon = 4\n"
   ]
  },
  {
   "cell_type": "markdown",
   "metadata": {},
   "source": [
    "## Exercice 5 : Input\n",
    "\n",
    "Il est aussi possible d'interagir avec un programme : la fonction `input` permet de stocker une valeur donnée par l'utilisateur. \n",
    "\n",
    "### Exemple"
   ]
  },
  {
   "cell_type": "code",
   "execution_count": null,
   "metadata": {},
   "outputs": [],
   "source": [
    "nombre = input(\"Veuillez donner un nombre (appuyez sur la touche 'Entrée' pour entrer votre réponse)\")\n",
    "\n",
    "print(\"Votre nombre est \" + nombre)"
   ]
  },
  {
   "cell_type": "markdown",
   "metadata": {},
   "source": [
    "### Exercice\n",
    "\n",
    "Demandez à l'utilisateur `Où habitez-vous ?` et répondez-lui `Vous habitez à ...`"
   ]
  },
  {
   "cell_type": "code",
   "execution_count": null,
   "metadata": {},
   "outputs": [],
   "source": []
  },
  {
   "cell_type": "markdown",
   "metadata": {},
   "source": [
    "Demandez à l'utilisateur son âge et répondez-lui `Votre année de naissance est ...`"
   ]
  },
  {
   "cell_type": "code",
   "execution_count": null,
   "metadata": {},
   "outputs": [],
   "source": []
  }
 ],
 "metadata": {
  "kernelspec": {
   "display_name": "Python 3.10.2 64-bit",
   "language": "python",
   "name": "python3"
  },
  "language_info": {
   "codemirror_mode": {
    "name": "ipython",
    "version": 3
   },
   "file_extension": ".py",
   "mimetype": "text/x-python",
   "name": "python",
   "nbconvert_exporter": "python",
   "pygments_lexer": "ipython3",
   "version": "3.10.2"
  },
  "orig_nbformat": 4,
  "vscode": {
   "interpreter": {
    "hash": "70855d027f8587c32bdbc2091c145d3c23bb0c40d6a1c3f98342a4acd7c29378"
   }
  }
 },
 "nbformat": 4,
 "nbformat_minor": 2
}
